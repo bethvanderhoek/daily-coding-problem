{
 "cells": [
  {
   "attachments": {},
   "cell_type": "markdown",
   "metadata": {},
   "source": [
    "# Daily Coding Problem #1 --Easy (asked by Google)\n",
    "\n",
    "Given a list of numbers and a number k, return whether any two numbers from the list add up to k.\n",
    "\n",
    "For example, given [10, 15, 3, 7] and k of 17, return true since 10 + 7 is 17.\n",
    "\n",
    "Bonus: Can you do this in one pass?"
   ]
  },
  {
   "attachments": {},
   "cell_type": "markdown",
   "metadata": {},
   "source": [
    "Contingencies to consider:\n",
    "--What if number(s) in the list repeats?\n",
    "--What if number(s) in the list is zero?\n",
    "--What if number(s) in the list is negative?"
   ]
  },
  {
   "cell_type": "code",
   "execution_count": 17,
   "metadata": {},
   "outputs": [],
   "source": [
    "def does_it_add(number_list, k):\n",
    "    global numbers_dict\n",
    "    numbers_dict = {}\n",
    "\n",
    "    for i in number_list:\n",
    "        list_no_i = number_list.copy()\n",
    "        list_no_i.remove(i)\n",
    "        for x in list_no_i:\n",
    "            if i + x == k:\n",
    "                numbers_dict[i] = x \n",
    "\n",
    "    if len(numbers_dict) > 0:\n",
    "        print('True')\n",
    "        print(f\"Yes, there are at least two numbers in {number_list} that add up to {k}\")\n",
    "        print(numbers_dict)\n",
    "    else:\n",
    "        print(f\"No, there are no two numbers in {number_list} that add up to {k}\")"
   ]
  },
  {
   "cell_type": "code",
   "execution_count": 21,
   "metadata": {},
   "outputs": [
    {
     "name": "stdout",
     "output_type": "stream",
     "text": [
      "No, there are no two numbers in [2, 2, 0] that add up to 1\n"
     ]
    }
   ],
   "source": [
    "number_list = [2, 2, 0]\n",
    "\n",
    "k = 1\n",
    "\n",
    "does_it_add(number_list, k)"
   ]
  }
 ],
 "metadata": {
  "kernelspec": {
   "display_name": "Python 3",
   "language": "python",
   "name": "python3"
  },
  "language_info": {
   "codemirror_mode": {
    "name": "ipython",
    "version": 3
   },
   "file_extension": ".py",
   "mimetype": "text/x-python",
   "name": "python",
   "nbconvert_exporter": "python",
   "pygments_lexer": "ipython3",
   "version": "3.11.1"
  },
  "orig_nbformat": 4,
  "vscode": {
   "interpreter": {
    "hash": "aee8b7b246df8f9039afb4144a1f6fd8d2ca17a180786b69acc140d282b71a49"
   }
  }
 },
 "nbformat": 4,
 "nbformat_minor": 2
}
